{
 "cells": [
  {
   "cell_type": "code",
   "execution_count": 15,
   "id": "ce4ee4df",
   "metadata": {},
   "outputs": [],
   "source": [
    "import matplotlib.pyplot as plt"
   ]
  },
  {
   "cell_type": "code",
   "execution_count": 16,
   "id": "b5b703a0",
   "metadata": {},
   "outputs": [],
   "source": [
    "import matplotlib.animation as animation"
   ]
  },
  {
   "cell_type": "code",
   "execution_count": 17,
   "id": "4aa943b0",
   "metadata": {},
   "outputs": [],
   "source": [
    "import numpy as np"
   ]
  },
  {
   "cell_type": "markdown",
   "id": "11c1b944",
   "metadata": {},
   "source": [
    "# FuncAnimation"
   ]
  },
  {
   "cell_type": "markdown",
   "id": "c212bd56",
   "metadata": {},
   "source": [
    "### step1: Plot the initial figure, including all the required artists"
   ]
  },
  {
   "cell_type": "markdown",
   "id": "a1957fbe",
   "metadata": {},
   "source": [
    "### step2: create an animation that updates the data in each artist to generate the new frame at each function call"
   ]
  },
  {
   "cell_type": "markdown",
   "id": "89eef389",
   "metadata": {},
   "source": [
    "### step3: create a FuncAnimation object with the Figure and the animation function, "
   ]
  },
  {
   "cell_type": "markdown",
   "id": "baf4d0e4",
   "metadata": {},
   "source": [
    "### step4: use animation.Animation.save or pyplot.show "
   ]
  },
  {
   "cell_type": "markdown",
   "id": "d94488d6",
   "metadata": {},
   "source": [
    "##### set_*"
   ]
  },
  {
   "cell_type": "markdown",
   "id": "22392beb",
   "metadata": {},
   "source": [
    "### example"
   ]
  },
  {
   "cell_type": "code",
   "execution_count": 53,
   "id": "7f66589d",
   "metadata": {},
   "outputs": [],
   "source": [
    "%matplotlib tk\n",
    "fig, ax = plt.subplots()\n",
    "t = np.linspace(0, 3, 40)\n",
    "g = -9.81\n",
    "v0 = 25\n",
    "z = g * t**2 / 2 + v0 * t\n",
    "\n",
    "v02 = 11\n",
    "z2 = g * t**2 / 2 + v02 * t\n",
    "\n",
    "scat = ax.scatter(t[0], z[0], c=\"b\", s=5, label=f'v0 = {v0} m/s')\n",
    "line2 = ax.plot(t[0], z2[0], label=f'v0 = {v02} m/s')[0]\n",
    "ax.set(xlim=[0, 3], ylim=[-4, 40], xlabel='Time [s]', ylabel='Z [m]')\n",
    "ax.legend()\n",
    "\n",
    "\n",
    "def update(frame):\n",
    "    # for each frame, update the data stored on each artist.\n",
    "    x = t[:frame]\n",
    "    y = z[:frame]\n",
    "    # update the scatter plot:\n",
    "    data = np.stack([x, y]).T\n",
    "    scat.set_offsets(data)\n",
    "    # update the line plot:\n",
    "    line2.set_xdata(t[:frame])\n",
    "    line2.set_ydata(z2[:frame])\n",
    "    return (scat, line2)\n",
    "\n",
    "\n",
    "ani = animation.FuncAnimation(fig=fig, func=update, frames=40, interval=30)\n",
    "plt.show()\n",
    "ani.save(filename=\"./images/parabolic_motion.gif\", writer=\"pillow\")"
   ]
  },
  {
   "cell_type": "markdown",
   "id": "12532214",
   "metadata": {},
   "source": [
    "# ArtistAnimation"
   ]
  },
  {
   "cell_type": "code",
   "execution_count": 52,
   "id": "e3688aa7",
   "metadata": {},
   "outputs": [],
   "source": [
    "fig, ax = plt.subplots()\n",
    "\n",
    "rng = np.random.default_rng(19680801)\n",
    "data = np.array([20, 20, 20, 20])\n",
    "x = np.array([1, 2, 3, 4])\n",
    "\n",
    "artists = []\n",
    "colors = ['tab:blue', 'tab:red', 'tab:green', 'tab:purple']\n",
    "\n",
    "for i in range(20):\n",
    "    data += rng.integers(low=0, high=10, size=data.shape)\n",
    "    container = ax.barh(x, data, color=colors)\n",
    "    artists.append(container)\n",
    "    \n",
    "\n",
    "ani = animation.ArtistAnimation(fig=fig, artists=artists, interval=400)\n",
    "plt.show\n",
    "ani.save(filename=\"./images/pillow_example.gif\", writer=\"pillow\")\n",
    " \n",
    "\n"
   ]
  },
  {
   "cell_type": "markdown",
   "id": "87a265f8",
   "metadata": {},
   "source": [
    "### Animation writers"
   ]
  },
  {
   "cell_type": "markdown",
   "id": "06cc1a1d",
   "metadata": {},
   "source": [
    "##### 1. PillowWriter"
   ]
  },
  {
   "cell_type": "code",
   "execution_count": null,
   "id": "2809aa09",
   "metadata": {},
   "outputs": [],
   "source": [
    "ani.save(filename=\"./images/pillow_example.gif\", writer=\"pillow\")"
   ]
  },
  {
   "cell_type": "markdown",
   "id": "a68d4cdc",
   "metadata": {},
   "source": [
    "##### 2. HTMLWriter"
   ]
  },
  {
   "cell_type": "markdown",
   "id": "02a05ded",
   "metadata": {},
   "source": [
    "##### 3.Pipe-based wrtiers"
   ]
  },
  {
   "cell_type": "markdown",
   "id": "0a4771c0",
   "metadata": {},
   "source": [
    "##### 4. File based writers"
   ]
  },
  {
   "cell_type": "code",
   "execution_count": null,
   "id": "8f80ba0f",
   "metadata": {},
   "outputs": [],
   "source": []
  }
 ],
 "metadata": {
  "kernelspec": {
   "display_name": "Python 3 (ipykernel)",
   "language": "python",
   "name": "python3"
  },
  "language_info": {
   "codemirror_mode": {
    "name": "ipython",
    "version": 3
   },
   "file_extension": ".py",
   "mimetype": "text/x-python",
   "name": "python",
   "nbconvert_exporter": "python",
   "pygments_lexer": "ipython3",
   "version": "3.11.2"
  }
 },
 "nbformat": 4,
 "nbformat_minor": 5
}
